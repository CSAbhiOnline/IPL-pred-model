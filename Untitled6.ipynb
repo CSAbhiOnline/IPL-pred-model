{
  "nbformat": 4,
  "nbformat_minor": 0,
  "metadata": {
    "colab": {
      "provenance": [],
      "authorship_tag": "ABX9TyOZ2biEJcTzU0r3venOZ9kB"
    },
    "kernelspec": {
      "name": "python3",
      "display_name": "Python 3"
    },
    "language_info": {
      "name": "python"
    }
  },
  "cells": [
    {
      "cell_type": "code",
      "execution_count": null,
      "metadata": {
        "id": "eTnxoUicAcIf"
      },
      "outputs": [],
      "source": [
        "import pandas as pd\n",
        "import matplotlib.pyplot as plt\n",
        "import seaborn as sns\n",
        "import numpy as np\n"
      ]
    },
    {
      "cell_type": "code",
      "source": [
        "data=pd.read_csv('/content/matches.csv')\n",
        "data=data.drop(['result','win-by-runs','win-by-wickets'],axis=1)\n",
        "data.replace(\"Rising Pune Supergiant\",\"Rising Pune Supergiants\", inplace=True)\n",
        "data.replace('Deccan Chargers', 'Sunrisers Hyderabad', inplace=True)\n",
        "data.replace('Delhi Daredevils', 'Delhi Capitals', inplace=True)\n",
        "data.replace('Bangalore', 'Bengaluru', inplace=True)\n",
        "data.head()\n",
        "X=data.drop(['winner'],axis=1)\n",
        "y=data[['winner']]\n"
      ],
      "metadata": {
        "id": "EymRHa1kAfqN"
      },
      "execution_count": null,
      "outputs": []
    },
    {
      "cell_type": "code",
      "source": [
        "from sklearn.preprocessing import LabelEncoder\n",
        " \n",
        "# Creating a instance of label Encoder.\n",
        "le = LabelEncoder()\n",
        " \n",
        "# Using .fit_transform function to fit label\n",
        "# encoder and return encoded label\n",
        "label = le.fit_transform(X['toss_decision'])\n",
        "X['toss_decision']=label\n",
        "#FIELDING=1 BATTING=0\n",
        "all_team={}\n",
        "all_field={}\n",
        "c=0\n",
        "d=0\n",
        "for i in range(len(X)):\n",
        "  if X.loc[i]['team1'] not in all_team:\n",
        "    all_team[X.loc[i]['team1']]=c\n",
        "    c+=1\n",
        "  if X.loc[i]['team2'] not in all_team:\n",
        "    all_team[X.loc[i]['team2']]=c\n",
        "    c+=1\n",
        "  if X.loc[i]['city'] not in all_field:\n",
        "    all_field[X.loc[i]['city']]=d\n",
        "    d+=1\n",
        "\n",
        "X=np.array(X)\n",
        "y=np.array(y)\n",
        "for i in range(len(X)):\n",
        "  X[i][0]=all_team[X[i][0]]\n",
        "  X[i][1]=all_team[X[i][1]]\n",
        "  X[i][2]=all_team[X[i][2]]\n",
        "  X[i][4]=all_field[X[i][4]]\n",
        "  y[i][0]=all_team[y[i][0]]\n",
        "\n",
        "for i in range(len(X)):\n",
        "  if X[i][0]==y[i][0]:\n",
        "    y[i][0]=0\n",
        "  if X[i][1]==y[i][0]:\n",
        "    y[i][0]=1\n",
        "\n",
        "for i in range(len(X)):\n",
        "  if X[i][0]==X[i][2]:\n",
        "    X[i][2]=0\n",
        "  else:\n",
        "    X[i][2]=1\n",
        "X=np.array(X,dtype='int32')\n",
        "y=np.array(y,dtype='int32')\n",
        "y=y.ravel()\n"
      ],
      "metadata": {
        "colab": {
          "base_uri": "https://localhost:8080/"
        },
        "id": "QsUnxsgM5bTv",
        "outputId": "5849936a-fcde-40e2-b5ea-570af60f09e5"
      },
      "execution_count": null,
      "outputs": [
        {
          "output_type": "execute_result",
          "data": {
            "text/plain": [
              "array([[ 0,  1,  1,  1,  0],\n",
              "       [ 2,  3,  1,  1,  1],\n",
              "       [ 4,  5,  1,  1,  2],\n",
              "       ...,\n",
              "       [ 0,  7,  1,  1, 25],\n",
              "       [ 7,  8,  1,  1, 25],\n",
              "       [ 2,  8,  0,  0,  0]], dtype=int32)"
            ]
          },
          "metadata": {},
          "execution_count": 274
        }
      ]
    },
    {
      "cell_type": "code",
      "source": [
        "from sklearn.model_selection import train_test_split\n",
        "X_train, X_test, y_train, y_test = train_test_split(X, y, test_size=0.3, random_state=1,shuffle=True,stratify=y)\n",
        "from sklearn.ensemble import RandomForestClassifier\n",
        "classifier = RandomForestClassifier()\n",
        "classifier.fit(X_train, y_train)\n",
        "print(\"Random Forest accuracy: \", (classifier.score(X_train,y_train))*100)\n",
        "\n",
        "#from sklearn.naive_bayes import GaussianNB\n",
        "#classifier=GaussianNB()\n",
        "#classifier.fit(X_train, y_train)\n",
        "#print(\"gnb accuracy: \", (classifier.score(X_train,y_train))*100)#"
      ],
      "metadata": {
        "colab": {
          "base_uri": "https://localhost:8080/"
        },
        "id": "LZ6vvgsy9czO",
        "outputId": "dc7618a5-5b49-4bd7-dd0f-7c2f8b7c1cd2"
      },
      "execution_count": null,
      "outputs": [
        {
          "output_type": "stream",
          "name": "stdout",
          "text": [
            "Random Forest accuracy:  90.21113243761995\n"
          ]
        }
      ]
    },
    {
      "cell_type": "code",
      "source": [
        "\n",
        "for k, v in all_team.items():\n",
        "    print(k+\":\", v)\n",
        "print(\"\\n\\n\\n\")\n",
        "for k, v in all_field.items():\n",
        "    print(k+\":\", v)"
      ],
      "metadata": {
        "colab": {
          "base_uri": "https://localhost:8080/"
        },
        "id": "V45aLSsKA8Ou",
        "outputId": "9ea7e029-7b31-4872-a69b-fc243ab0042f"
      },
      "execution_count": null,
      "outputs": [
        {
          "output_type": "stream",
          "name": "stdout",
          "text": [
            "Sunrisers Hyderabad: 0\n",
            "Royal Challengers Bangalore: 1\n",
            "Mumbai Indians: 2\n",
            "Rising Pune Supergiants: 3\n",
            "Gujarat Lions: 4\n",
            "Kolkata Knight Riders: 5\n",
            "Kings XI Punjab: 6\n",
            "Delhi Capitals: 7\n",
            "Chennai Super Kings: 8\n",
            "Rajasthan Royals: 9\n",
            "Kochi Tuskers Kerala: 10\n",
            "Pune Warriors: 11\n",
            "\n",
            "\n",
            "\n",
            "\n",
            "Hyderabad: 0\n",
            "Pune: 1\n",
            "Rajkot: 2\n",
            "Indore: 3\n",
            "Bengaluru: 4\n",
            "Mumbai: 5\n",
            "Kolkata: 6\n",
            "Delhi: 7\n",
            "Chandigarh: 8\n",
            "Kanpur: 9\n",
            "Jaipur: 10\n",
            "Chennai: 11\n",
            "Cape Town: 12\n",
            "Port Elizabeth: 13\n",
            "Durban: 14\n",
            "Centurion: 15\n",
            "East London: 16\n",
            "Johannesburg: 17\n",
            "Kimberley: 18\n",
            "Bloemfontein: 19\n",
            "Ahmedabad: 20\n",
            "Cuttack: 21\n",
            "Nagpur: 22\n",
            "Dharamsala: 23\n",
            "Kochi: 24\n",
            "Visakhapatnam: 25\n",
            "Raipur: 26\n",
            "Ranchi: 27\n",
            "Abu Dhabi: 28\n",
            "Sharjah: 29\n",
            "Mohali: 30\n"
          ]
        }
      ]
    },
    {
      "cell_type": "code",
      "source": [
        "team1_pred=int(input('Enter team1: '))\n",
        "team2_pred=int(input('Enter team2: '))\n",
        "toss_winners=int(input('Enter toss winner: '))#if team1 won put 0 if team2 won put 1\n",
        "toss_bat_ball=int(input('Enter toss decision: '))#if batting put 0 if fielding put 1\n",
        "venueu=int(input('Enter venue: '))\n",
        "\n",
        "predictionx=[[team1_pred,team2_pred,toss_winners,toss_bat_ball,venueu]]\n",
        "y_pred=classifier.predict(predictionx)\n",
        "if y_pred==0:\n",
        "  winner=predictionx[0][0]\n",
        "if y_pred==1:\n",
        "  winner=predictionx[0][1]\n",
        "\n",
        "print(\"Possible winner: \", list(all_team.keys())\n",
        "      [list(all_team.values()).index(winner)])"
      ],
      "metadata": {
        "colab": {
          "base_uri": "https://localhost:8080/"
        },
        "id": "oeJQP7i4BdHe",
        "outputId": "aa7a1357-347d-43b4-c98c-59752bb71e95"
      },
      "execution_count": null,
      "outputs": [
        {
          "output_type": "stream",
          "name": "stdout",
          "text": [
            "Enter team1: 1\n",
            "Enter team2: 2\n",
            "Enter toss winner: 1\n",
            "Enter toss decision: 0\n",
            "Enter venue: 5\n",
            "Possible winner:  Mumbai Indians\n"
          ]
        }
      ]
    },
    {
      "cell_type": "code",
      "source": [],
      "metadata": {
        "id": "DVOddk6qOlxl"
      },
      "execution_count": null,
      "outputs": []
    }
  ]
}